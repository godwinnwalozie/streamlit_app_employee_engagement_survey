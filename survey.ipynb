{
 "cells": [
  {
   "cell_type": "code",
   "execution_count": 1,
   "metadata": {},
   "outputs": [],
   "source": [
    "import pandas as pd\n",
    "import numpy as np\n",
    "import matplotlib.pyplot as plt\n",
    "import seaborn as sns\n",
    "%matplotlib inline\n",
    "import plotly.express as px\n",
    "from ipywidgets import interact"
   ]
  },
  {
   "cell_type": "code",
   "execution_count": 2,
   "metadata": {},
   "outputs": [
    {
     "data": {
      "text/html": [
       "<div>\n",
       "<style scoped>\n",
       "    .dataframe tbody tr th:only-of-type {\n",
       "        vertical-align: middle;\n",
       "    }\n",
       "\n",
       "    .dataframe tbody tr th {\n",
       "        vertical-align: top;\n",
       "    }\n",
       "\n",
       "    .dataframe thead th {\n",
       "        text-align: right;\n",
       "    }\n",
       "</style>\n",
       "<table border=\"1\" class=\"dataframe\">\n",
       "  <thead>\n",
       "    <tr style=\"text-align: right;\">\n",
       "      <th></th>\n",
       "      <th>I receive training to do my job effectively</th>\n",
       "      <th>There is someone at work who encourages</th>\n",
       "      <th>I have been mentored at work</th>\n",
       "      <th>I have received fair consideration</th>\n",
       "      <th>Overall I am satisfied with the program</th>\n",
       "      <th>Management and Diversity</th>\n",
       "      <th>Human Resources</th>\n",
       "      <th>Information Technology</th>\n",
       "      <th>worker's Compensation</th>\n",
       "      <th>The wellness program</th>\n",
       "      <th>...</th>\n",
       "      <th>I am satisfied with the City's def</th>\n",
       "      <th>Overall I am reasonably compensat</th>\n",
       "      <th>I receive information that affects</th>\n",
       "      <th>I can express my opinions about wo</th>\n",
       "      <th>Generally communication between w</th>\n",
       "      <th>I am encouraged to be innovative</th>\n",
       "      <th>I am aware of the values</th>\n",
       "      <th>I feel the City practices these values</th>\n",
       "      <th>My co-workers treat me with respect</th>\n",
       "      <th>Overall how satisfied are you with work</th>\n",
       "    </tr>\n",
       "  </thead>\n",
       "  <tbody>\n",
       "    <tr>\n",
       "      <th>0</th>\n",
       "      <td>5</td>\n",
       "      <td>5</td>\n",
       "      <td>5</td>\n",
       "      <td>5</td>\n",
       "      <td>5</td>\n",
       "      <td>4</td>\n",
       "      <td>4</td>\n",
       "      <td>4</td>\n",
       "      <td>4</td>\n",
       "      <td>4</td>\n",
       "      <td>...</td>\n",
       "      <td>9</td>\n",
       "      <td>4</td>\n",
       "      <td>4</td>\n",
       "      <td>4</td>\n",
       "      <td>9</td>\n",
       "      <td>9</td>\n",
       "      <td>9</td>\n",
       "      <td>9</td>\n",
       "      <td>4</td>\n",
       "      <td>2</td>\n",
       "    </tr>\n",
       "    <tr>\n",
       "      <th>1</th>\n",
       "      <td>2</td>\n",
       "      <td>2</td>\n",
       "      <td>2</td>\n",
       "      <td>2</td>\n",
       "      <td>4</td>\n",
       "      <td>2</td>\n",
       "      <td>4</td>\n",
       "      <td>4</td>\n",
       "      <td>4</td>\n",
       "      <td>3</td>\n",
       "      <td>...</td>\n",
       "      <td>2</td>\n",
       "      <td>2</td>\n",
       "      <td>2</td>\n",
       "      <td>2</td>\n",
       "      <td>2</td>\n",
       "      <td>2</td>\n",
       "      <td>4</td>\n",
       "      <td>4</td>\n",
       "      <td>3</td>\n",
       "      <td>2</td>\n",
       "    </tr>\n",
       "    <tr>\n",
       "      <th>2</th>\n",
       "      <td>3</td>\n",
       "      <td>4</td>\n",
       "      <td>5</td>\n",
       "      <td>4</td>\n",
       "      <td>3</td>\n",
       "      <td>9</td>\n",
       "      <td>9</td>\n",
       "      <td>4</td>\n",
       "      <td>9</td>\n",
       "      <td>1</td>\n",
       "      <td>...</td>\n",
       "      <td>3</td>\n",
       "      <td>3</td>\n",
       "      <td>3</td>\n",
       "      <td>4</td>\n",
       "      <td>5</td>\n",
       "      <td>2</td>\n",
       "      <td>5</td>\n",
       "      <td>5</td>\n",
       "      <td>5</td>\n",
       "      <td>1</td>\n",
       "    </tr>\n",
       "    <tr>\n",
       "      <th>3</th>\n",
       "      <td>4</td>\n",
       "      <td>4</td>\n",
       "      <td>5</td>\n",
       "      <td>4</td>\n",
       "      <td>4</td>\n",
       "      <td>3</td>\n",
       "      <td>4</td>\n",
       "      <td>4</td>\n",
       "      <td>4</td>\n",
       "      <td>4</td>\n",
       "      <td>...</td>\n",
       "      <td>4</td>\n",
       "      <td>4</td>\n",
       "      <td>4</td>\n",
       "      <td>4</td>\n",
       "      <td>4</td>\n",
       "      <td>4</td>\n",
       "      <td>4</td>\n",
       "      <td>4</td>\n",
       "      <td>4</td>\n",
       "      <td>1</td>\n",
       "    </tr>\n",
       "    <tr>\n",
       "      <th>4</th>\n",
       "      <td>4</td>\n",
       "      <td>2</td>\n",
       "      <td>2</td>\n",
       "      <td>2</td>\n",
       "      <td>2</td>\n",
       "      <td>2</td>\n",
       "      <td>2</td>\n",
       "      <td>4</td>\n",
       "      <td>1</td>\n",
       "      <td>4</td>\n",
       "      <td>...</td>\n",
       "      <td>3</td>\n",
       "      <td>1</td>\n",
       "      <td>4</td>\n",
       "      <td>2</td>\n",
       "      <td>4</td>\n",
       "      <td>4</td>\n",
       "      <td>4</td>\n",
       "      <td>3</td>\n",
       "      <td>4</td>\n",
       "      <td>3</td>\n",
       "    </tr>\n",
       "  </tbody>\n",
       "</table>\n",
       "<p>5 rows × 39 columns</p>\n",
       "</div>"
      ],
      "text/plain": [
       "   I receive training to do my job effectively  \\\n",
       "0                                            5   \n",
       "1                                            2   \n",
       "2                                            3   \n",
       "3                                            4   \n",
       "4                                            4   \n",
       "\n",
       "   There is someone at work who encourages  I have been mentored at work  \\\n",
       "0                                        5                             5   \n",
       "1                                        2                             2   \n",
       "2                                        4                             5   \n",
       "3                                        4                             5   \n",
       "4                                        2                             2   \n",
       "\n",
       "   I have received fair consideration  \\\n",
       "0                                   5   \n",
       "1                                   2   \n",
       "2                                   4   \n",
       "3                                   4   \n",
       "4                                   2   \n",
       "\n",
       "   Overall I am satisfied with the program  Management and Diversity  \\\n",
       "0                                        5                         4   \n",
       "1                                        4                         2   \n",
       "2                                        3                         9   \n",
       "3                                        4                         3   \n",
       "4                                        2                         2   \n",
       "\n",
       "   Human Resources  Information Technology  worker's Compensation  \\\n",
       "0                4                       4                      4   \n",
       "1                4                       4                      4   \n",
       "2                9                       4                      9   \n",
       "3                4                       4                      4   \n",
       "4                2                       4                      1   \n",
       "\n",
       "   The wellness program  ...  I am satisfied with the City's def  \\\n",
       "0                     4  ...                                   9   \n",
       "1                     3  ...                                   2   \n",
       "2                     1  ...                                   3   \n",
       "3                     4  ...                                   4   \n",
       "4                     4  ...                                   3   \n",
       "\n",
       "   Overall I am reasonably compensat  I receive information that affects  \\\n",
       "0                                  4                                   4   \n",
       "1                                  2                                   2   \n",
       "2                                  3                                   3   \n",
       "3                                  4                                   4   \n",
       "4                                  1                                   4   \n",
       "\n",
       "   I can express my opinions about wo  Generally communication between w  \\\n",
       "0                                   4                                  9   \n",
       "1                                   2                                  2   \n",
       "2                                   4                                  5   \n",
       "3                                   4                                  4   \n",
       "4                                   2                                  4   \n",
       "\n",
       "   I am encouraged to be innovative  I am aware of the values  \\\n",
       "0                                 9                         9   \n",
       "1                                 2                         4   \n",
       "2                                 2                         5   \n",
       "3                                 4                         4   \n",
       "4                                 4                         4   \n",
       "\n",
       "   I feel the City practices these values  \\\n",
       "0                                       9   \n",
       "1                                       4   \n",
       "2                                       5   \n",
       "3                                       4   \n",
       "4                                       3   \n",
       "\n",
       "   My co-workers treat me with respect  \\\n",
       "0                                    4   \n",
       "1                                    3   \n",
       "2                                    5   \n",
       "3                                    4   \n",
       "4                                    4   \n",
       "\n",
       "   Overall how satisfied are you with work  \n",
       "0                                        2  \n",
       "1                                        2  \n",
       "2                                        1  \n",
       "3                                        1  \n",
       "4                                        3  \n",
       "\n",
       "[5 rows x 39 columns]"
      ]
     },
     "execution_count": 2,
     "metadata": {},
     "output_type": "execute_result"
    }
   ],
   "source": [
    "survey = pd.read_csv(\"../streamlit_app_employee_engagement_survey/survey.csv\")\n",
    "survey.head()"
   ]
  },
  {
   "cell_type": "code",
   "execution_count": 3,
   "metadata": {},
   "outputs": [],
   "source": [
    "cols = [i for i in survey.columns]"
   ]
  },
  {
   "cell_type": "code",
   "execution_count": 4,
   "metadata": {},
   "outputs": [],
   "source": [
    "new = []\n",
    "for i in cols:\n",
    "    clean = i.split()[1:]\n",
    "    new.append(' '.join(clean))\n",
    "    "
   ]
  },
  {
   "cell_type": "code",
   "execution_count": 5,
   "metadata": {},
   "outputs": [],
   "source": [
    "# new col will be \n",
    "survey.columns = new"
   ]
  },
  {
   "cell_type": "code",
   "execution_count": 6,
   "metadata": {},
   "outputs": [
    {
     "data": {
      "text/html": [
       "<div>\n",
       "<style scoped>\n",
       "    .dataframe tbody tr th:only-of-type {\n",
       "        vertical-align: middle;\n",
       "    }\n",
       "\n",
       "    .dataframe tbody tr th {\n",
       "        vertical-align: top;\n",
       "    }\n",
       "\n",
       "    .dataframe thead th {\n",
       "        text-align: right;\n",
       "    }\n",
       "</style>\n",
       "<table border=\"1\" class=\"dataframe\">\n",
       "  <thead>\n",
       "    <tr style=\"text-align: right;\">\n",
       "      <th></th>\n",
       "      <th>receive training to do my job effectively</th>\n",
       "      <th>is someone at work who encourages</th>\n",
       "      <th>have been mentored at work</th>\n",
       "      <th>have received fair consideration</th>\n",
       "      <th>I am satisfied with the program</th>\n",
       "      <th>and Diversity</th>\n",
       "      <th>Resources</th>\n",
       "      <th>Technology</th>\n",
       "      <th>Compensation</th>\n",
       "      <th>wellness program</th>\n",
       "      <th>...</th>\n",
       "      <th>am satisfied with the City's def</th>\n",
       "      <th>I am reasonably compensat</th>\n",
       "      <th>receive information that affects</th>\n",
       "      <th>can express my opinions about wo</th>\n",
       "      <th>communication between w</th>\n",
       "      <th>am encouraged to be innovative</th>\n",
       "      <th>am aware of the values</th>\n",
       "      <th>feel the City practices these values</th>\n",
       "      <th>co-workers treat me with respect</th>\n",
       "      <th>how satisfied are you with work</th>\n",
       "    </tr>\n",
       "  </thead>\n",
       "  <tbody>\n",
       "    <tr>\n",
       "      <th>0</th>\n",
       "      <td>5</td>\n",
       "      <td>5</td>\n",
       "      <td>5</td>\n",
       "      <td>5</td>\n",
       "      <td>5</td>\n",
       "      <td>4</td>\n",
       "      <td>4</td>\n",
       "      <td>4</td>\n",
       "      <td>4</td>\n",
       "      <td>4</td>\n",
       "      <td>...</td>\n",
       "      <td>9</td>\n",
       "      <td>4</td>\n",
       "      <td>4</td>\n",
       "      <td>4</td>\n",
       "      <td>9</td>\n",
       "      <td>9</td>\n",
       "      <td>9</td>\n",
       "      <td>9</td>\n",
       "      <td>4</td>\n",
       "      <td>2</td>\n",
       "    </tr>\n",
       "    <tr>\n",
       "      <th>1</th>\n",
       "      <td>2</td>\n",
       "      <td>2</td>\n",
       "      <td>2</td>\n",
       "      <td>2</td>\n",
       "      <td>4</td>\n",
       "      <td>2</td>\n",
       "      <td>4</td>\n",
       "      <td>4</td>\n",
       "      <td>4</td>\n",
       "      <td>3</td>\n",
       "      <td>...</td>\n",
       "      <td>2</td>\n",
       "      <td>2</td>\n",
       "      <td>2</td>\n",
       "      <td>2</td>\n",
       "      <td>2</td>\n",
       "      <td>2</td>\n",
       "      <td>4</td>\n",
       "      <td>4</td>\n",
       "      <td>3</td>\n",
       "      <td>2</td>\n",
       "    </tr>\n",
       "    <tr>\n",
       "      <th>2</th>\n",
       "      <td>3</td>\n",
       "      <td>4</td>\n",
       "      <td>5</td>\n",
       "      <td>4</td>\n",
       "      <td>3</td>\n",
       "      <td>9</td>\n",
       "      <td>9</td>\n",
       "      <td>4</td>\n",
       "      <td>9</td>\n",
       "      <td>1</td>\n",
       "      <td>...</td>\n",
       "      <td>3</td>\n",
       "      <td>3</td>\n",
       "      <td>3</td>\n",
       "      <td>4</td>\n",
       "      <td>5</td>\n",
       "      <td>2</td>\n",
       "      <td>5</td>\n",
       "      <td>5</td>\n",
       "      <td>5</td>\n",
       "      <td>1</td>\n",
       "    </tr>\n",
       "    <tr>\n",
       "      <th>3</th>\n",
       "      <td>4</td>\n",
       "      <td>4</td>\n",
       "      <td>5</td>\n",
       "      <td>4</td>\n",
       "      <td>4</td>\n",
       "      <td>3</td>\n",
       "      <td>4</td>\n",
       "      <td>4</td>\n",
       "      <td>4</td>\n",
       "      <td>4</td>\n",
       "      <td>...</td>\n",
       "      <td>4</td>\n",
       "      <td>4</td>\n",
       "      <td>4</td>\n",
       "      <td>4</td>\n",
       "      <td>4</td>\n",
       "      <td>4</td>\n",
       "      <td>4</td>\n",
       "      <td>4</td>\n",
       "      <td>4</td>\n",
       "      <td>1</td>\n",
       "    </tr>\n",
       "    <tr>\n",
       "      <th>4</th>\n",
       "      <td>4</td>\n",
       "      <td>2</td>\n",
       "      <td>2</td>\n",
       "      <td>2</td>\n",
       "      <td>2</td>\n",
       "      <td>2</td>\n",
       "      <td>2</td>\n",
       "      <td>4</td>\n",
       "      <td>1</td>\n",
       "      <td>4</td>\n",
       "      <td>...</td>\n",
       "      <td>3</td>\n",
       "      <td>1</td>\n",
       "      <td>4</td>\n",
       "      <td>2</td>\n",
       "      <td>4</td>\n",
       "      <td>4</td>\n",
       "      <td>4</td>\n",
       "      <td>3</td>\n",
       "      <td>4</td>\n",
       "      <td>3</td>\n",
       "    </tr>\n",
       "  </tbody>\n",
       "</table>\n",
       "<p>5 rows × 39 columns</p>\n",
       "</div>"
      ],
      "text/plain": [
       "   receive training to do my job effectively  \\\n",
       "0                                          5   \n",
       "1                                          2   \n",
       "2                                          3   \n",
       "3                                          4   \n",
       "4                                          4   \n",
       "\n",
       "   is someone at work who encourages  have been mentored at work  \\\n",
       "0                                  5                           5   \n",
       "1                                  2                           2   \n",
       "2                                  4                           5   \n",
       "3                                  4                           5   \n",
       "4                                  2                           2   \n",
       "\n",
       "   have received fair consideration  I am satisfied with the program  \\\n",
       "0                                 5                                5   \n",
       "1                                 2                                4   \n",
       "2                                 4                                3   \n",
       "3                                 4                                4   \n",
       "4                                 2                                2   \n",
       "\n",
       "   and Diversity  Resources  Technology  Compensation  wellness program  ...  \\\n",
       "0              4          4           4             4                 4  ...   \n",
       "1              2          4           4             4                 3  ...   \n",
       "2              9          9           4             9                 1  ...   \n",
       "3              3          4           4             4                 4  ...   \n",
       "4              2          2           4             1                 4  ...   \n",
       "\n",
       "   am satisfied with the City's def  I am reasonably compensat  \\\n",
       "0                                 9                          4   \n",
       "1                                 2                          2   \n",
       "2                                 3                          3   \n",
       "3                                 4                          4   \n",
       "4                                 3                          1   \n",
       "\n",
       "   receive information that affects  can express my opinions about wo  \\\n",
       "0                                 4                                 4   \n",
       "1                                 2                                 2   \n",
       "2                                 3                                 4   \n",
       "3                                 4                                 4   \n",
       "4                                 4                                 2   \n",
       "\n",
       "   communication between w  am encouraged to be innovative  \\\n",
       "0                        9                               9   \n",
       "1                        2                               2   \n",
       "2                        5                               2   \n",
       "3                        4                               4   \n",
       "4                        4                               4   \n",
       "\n",
       "   am aware of the values  feel the City practices these values  \\\n",
       "0                       9                                     9   \n",
       "1                       4                                     4   \n",
       "2                       5                                     5   \n",
       "3                       4                                     4   \n",
       "4                       4                                     3   \n",
       "\n",
       "   co-workers treat me with respect  how satisfied are you with work  \n",
       "0                                 4                                2  \n",
       "1                                 3                                2  \n",
       "2                                 5                                1  \n",
       "3                                 4                                1  \n",
       "4                                 4                                3  \n",
       "\n",
       "[5 rows x 39 columns]"
      ]
     },
     "execution_count": 6,
     "metadata": {},
     "output_type": "execute_result"
    }
   ],
   "source": [
    "survey.head()"
   ]
  },
  {
   "cell_type": "code",
   "execution_count": 7,
   "metadata": {},
   "outputs": [
    {
     "data": {
      "text/html": [
       "<div>\n",
       "<style scoped>\n",
       "    .dataframe tbody tr th:only-of-type {\n",
       "        vertical-align: middle;\n",
       "    }\n",
       "\n",
       "    .dataframe tbody tr th {\n",
       "        vertical-align: top;\n",
       "    }\n",
       "\n",
       "    .dataframe thead th {\n",
       "        text-align: right;\n",
       "    }\n",
       "</style>\n",
       "<table border=\"1\" class=\"dataframe\">\n",
       "  <thead>\n",
       "    <tr style=\"text-align: right;\">\n",
       "      <th></th>\n",
       "      <th>receive training to do my job effectively</th>\n",
       "      <th>is someone at work who encourages</th>\n",
       "      <th>have been mentored at work</th>\n",
       "      <th>have received fair consideration</th>\n",
       "      <th>I am satisfied with the program</th>\n",
       "      <th>and Diversity</th>\n",
       "      <th>Resources</th>\n",
       "      <th>Technology</th>\n",
       "      <th>Compensation</th>\n",
       "      <th>wellness program</th>\n",
       "      <th>...</th>\n",
       "      <th>am satisfied with the City's def</th>\n",
       "      <th>I am reasonably compensat</th>\n",
       "      <th>receive information that affects</th>\n",
       "      <th>can express my opinions about wo</th>\n",
       "      <th>communication between w</th>\n",
       "      <th>am encouraged to be innovative</th>\n",
       "      <th>am aware of the values</th>\n",
       "      <th>feel the City practices these values</th>\n",
       "      <th>co-workers treat me with respect</th>\n",
       "      <th>how satisfied are you with work</th>\n",
       "    </tr>\n",
       "  </thead>\n",
       "  <tbody>\n",
       "    <tr>\n",
       "      <th>count</th>\n",
       "      <td>942.000000</td>\n",
       "      <td>942.000000</td>\n",
       "      <td>942.000000</td>\n",
       "      <td>942.000000</td>\n",
       "      <td>942.000000</td>\n",
       "      <td>942.000000</td>\n",
       "      <td>942.000000</td>\n",
       "      <td>942.000000</td>\n",
       "      <td>942.000000</td>\n",
       "      <td>942.000000</td>\n",
       "      <td>...</td>\n",
       "      <td>942.000000</td>\n",
       "      <td>942.000000</td>\n",
       "      <td>942.000000</td>\n",
       "      <td>942.000000</td>\n",
       "      <td>942.000000</td>\n",
       "      <td>942.000000</td>\n",
       "      <td>942.000000</td>\n",
       "      <td>942.000000</td>\n",
       "      <td>942.000000</td>\n",
       "      <td>942.000000</td>\n",
       "    </tr>\n",
       "    <tr>\n",
       "      <th>mean</th>\n",
       "      <td>3.821656</td>\n",
       "      <td>3.642251</td>\n",
       "      <td>3.495754</td>\n",
       "      <td>3.921444</td>\n",
       "      <td>3.780255</td>\n",
       "      <td>4.521231</td>\n",
       "      <td>4.067941</td>\n",
       "      <td>4.037155</td>\n",
       "      <td>4.670913</td>\n",
       "      <td>4.059448</td>\n",
       "      <td>...</td>\n",
       "      <td>4.434183</td>\n",
       "      <td>3.870488</td>\n",
       "      <td>3.967091</td>\n",
       "      <td>4.006369</td>\n",
       "      <td>3.657113</td>\n",
       "      <td>3.849257</td>\n",
       "      <td>4.454352</td>\n",
       "      <td>3.949045</td>\n",
       "      <td>4.390658</td>\n",
       "      <td>2.304671</td>\n",
       "    </tr>\n",
       "    <tr>\n",
       "      <th>std</th>\n",
       "      <td>1.177200</td>\n",
       "      <td>1.405333</td>\n",
       "      <td>1.586836</td>\n",
       "      <td>2.012761</td>\n",
       "      <td>1.617358</td>\n",
       "      <td>2.434056</td>\n",
       "      <td>1.873143</td>\n",
       "      <td>1.705059</td>\n",
       "      <td>2.357970</td>\n",
       "      <td>1.847729</td>\n",
       "      <td>...</td>\n",
       "      <td>1.804299</td>\n",
       "      <td>1.532572</td>\n",
       "      <td>1.584321</td>\n",
       "      <td>2.035279</td>\n",
       "      <td>1.812182</td>\n",
       "      <td>1.722698</td>\n",
       "      <td>1.462074</td>\n",
       "      <td>1.806104</td>\n",
       "      <td>1.308128</td>\n",
       "      <td>1.920182</td>\n",
       "    </tr>\n",
       "    <tr>\n",
       "      <th>min</th>\n",
       "      <td>1.000000</td>\n",
       "      <td>1.000000</td>\n",
       "      <td>1.000000</td>\n",
       "      <td>1.000000</td>\n",
       "      <td>1.000000</td>\n",
       "      <td>1.000000</td>\n",
       "      <td>1.000000</td>\n",
       "      <td>1.000000</td>\n",
       "      <td>1.000000</td>\n",
       "      <td>1.000000</td>\n",
       "      <td>...</td>\n",
       "      <td>1.000000</td>\n",
       "      <td>1.000000</td>\n",
       "      <td>1.000000</td>\n",
       "      <td>1.000000</td>\n",
       "      <td>1.000000</td>\n",
       "      <td>1.000000</td>\n",
       "      <td>1.000000</td>\n",
       "      <td>1.000000</td>\n",
       "      <td>1.000000</td>\n",
       "      <td>1.000000</td>\n",
       "    </tr>\n",
       "    <tr>\n",
       "      <th>25%</th>\n",
       "      <td>3.000000</td>\n",
       "      <td>3.000000</td>\n",
       "      <td>2.000000</td>\n",
       "      <td>3.000000</td>\n",
       "      <td>3.000000</td>\n",
       "      <td>3.000000</td>\n",
       "      <td>3.000000</td>\n",
       "      <td>3.000000</td>\n",
       "      <td>3.000000</td>\n",
       "      <td>3.000000</td>\n",
       "      <td>...</td>\n",
       "      <td>4.000000</td>\n",
       "      <td>3.000000</td>\n",
       "      <td>3.000000</td>\n",
       "      <td>3.000000</td>\n",
       "      <td>2.000000</td>\n",
       "      <td>3.000000</td>\n",
       "      <td>4.000000</td>\n",
       "      <td>3.000000</td>\n",
       "      <td>4.000000</td>\n",
       "      <td>1.000000</td>\n",
       "    </tr>\n",
       "    <tr>\n",
       "      <th>50%</th>\n",
       "      <td>4.000000</td>\n",
       "      <td>4.000000</td>\n",
       "      <td>4.000000</td>\n",
       "      <td>4.000000</td>\n",
       "      <td>4.000000</td>\n",
       "      <td>4.000000</td>\n",
       "      <td>4.000000</td>\n",
       "      <td>4.000000</td>\n",
       "      <td>4.000000</td>\n",
       "      <td>4.000000</td>\n",
       "      <td>...</td>\n",
       "      <td>4.000000</td>\n",
       "      <td>4.000000</td>\n",
       "      <td>4.000000</td>\n",
       "      <td>4.000000</td>\n",
       "      <td>4.000000</td>\n",
       "      <td>4.000000</td>\n",
       "      <td>4.000000</td>\n",
       "      <td>4.000000</td>\n",
       "      <td>4.000000</td>\n",
       "      <td>2.000000</td>\n",
       "    </tr>\n",
       "    <tr>\n",
       "      <th>75%</th>\n",
       "      <td>5.000000</td>\n",
       "      <td>5.000000</td>\n",
       "      <td>4.000000</td>\n",
       "      <td>5.000000</td>\n",
       "      <td>4.000000</td>\n",
       "      <td>5.000000</td>\n",
       "      <td>5.000000</td>\n",
       "      <td>5.000000</td>\n",
       "      <td>5.000000</td>\n",
       "      <td>5.000000</td>\n",
       "      <td>...</td>\n",
       "      <td>5.000000</td>\n",
       "      <td>4.000000</td>\n",
       "      <td>5.000000</td>\n",
       "      <td>5.000000</td>\n",
       "      <td>4.000000</td>\n",
       "      <td>5.000000</td>\n",
       "      <td>5.000000</td>\n",
       "      <td>5.000000</td>\n",
       "      <td>5.000000</td>\n",
       "      <td>2.000000</td>\n",
       "    </tr>\n",
       "    <tr>\n",
       "      <th>max</th>\n",
       "      <td>9.000000</td>\n",
       "      <td>9.000000</td>\n",
       "      <td>9.000000</td>\n",
       "      <td>9.000000</td>\n",
       "      <td>9.000000</td>\n",
       "      <td>9.000000</td>\n",
       "      <td>9.000000</td>\n",
       "      <td>9.000000</td>\n",
       "      <td>9.000000</td>\n",
       "      <td>9.000000</td>\n",
       "      <td>...</td>\n",
       "      <td>9.000000</td>\n",
       "      <td>9.000000</td>\n",
       "      <td>9.000000</td>\n",
       "      <td>9.000000</td>\n",
       "      <td>9.000000</td>\n",
       "      <td>9.000000</td>\n",
       "      <td>9.000000</td>\n",
       "      <td>9.000000</td>\n",
       "      <td>9.000000</td>\n",
       "      <td>9.000000</td>\n",
       "    </tr>\n",
       "  </tbody>\n",
       "</table>\n",
       "<p>8 rows × 39 columns</p>\n",
       "</div>"
      ],
      "text/plain": [
       "       receive training to do my job effectively  \\\n",
       "count                                 942.000000   \n",
       "mean                                    3.821656   \n",
       "std                                     1.177200   \n",
       "min                                     1.000000   \n",
       "25%                                     3.000000   \n",
       "50%                                     4.000000   \n",
       "75%                                     5.000000   \n",
       "max                                     9.000000   \n",
       "\n",
       "       is someone at work who encourages  have been mentored at work  \\\n",
       "count                         942.000000                  942.000000   \n",
       "mean                            3.642251                    3.495754   \n",
       "std                             1.405333                    1.586836   \n",
       "min                             1.000000                    1.000000   \n",
       "25%                             3.000000                    2.000000   \n",
       "50%                             4.000000                    4.000000   \n",
       "75%                             5.000000                    4.000000   \n",
       "max                             9.000000                    9.000000   \n",
       "\n",
       "       have received fair consideration  I am satisfied with the program  \\\n",
       "count                        942.000000                       942.000000   \n",
       "mean                           3.921444                         3.780255   \n",
       "std                            2.012761                         1.617358   \n",
       "min                            1.000000                         1.000000   \n",
       "25%                            3.000000                         3.000000   \n",
       "50%                            4.000000                         4.000000   \n",
       "75%                            5.000000                         4.000000   \n",
       "max                            9.000000                         9.000000   \n",
       "\n",
       "       and Diversity   Resources  Technology  Compensation  wellness program  \\\n",
       "count     942.000000  942.000000  942.000000    942.000000        942.000000   \n",
       "mean        4.521231    4.067941    4.037155      4.670913          4.059448   \n",
       "std         2.434056    1.873143    1.705059      2.357970          1.847729   \n",
       "min         1.000000    1.000000    1.000000      1.000000          1.000000   \n",
       "25%         3.000000    3.000000    3.000000      3.000000          3.000000   \n",
       "50%         4.000000    4.000000    4.000000      4.000000          4.000000   \n",
       "75%         5.000000    5.000000    5.000000      5.000000          5.000000   \n",
       "max         9.000000    9.000000    9.000000      9.000000          9.000000   \n",
       "\n",
       "       ...  am satisfied with the City's def  I am reasonably compensat  \\\n",
       "count  ...                        942.000000                 942.000000   \n",
       "mean   ...                          4.434183                   3.870488   \n",
       "std    ...                          1.804299                   1.532572   \n",
       "min    ...                          1.000000                   1.000000   \n",
       "25%    ...                          4.000000                   3.000000   \n",
       "50%    ...                          4.000000                   4.000000   \n",
       "75%    ...                          5.000000                   4.000000   \n",
       "max    ...                          9.000000                   9.000000   \n",
       "\n",
       "       receive information that affects  can express my opinions about wo  \\\n",
       "count                        942.000000                        942.000000   \n",
       "mean                           3.967091                          4.006369   \n",
       "std                            1.584321                          2.035279   \n",
       "min                            1.000000                          1.000000   \n",
       "25%                            3.000000                          3.000000   \n",
       "50%                            4.000000                          4.000000   \n",
       "75%                            5.000000                          5.000000   \n",
       "max                            9.000000                          9.000000   \n",
       "\n",
       "       communication between w  am encouraged to be innovative  \\\n",
       "count               942.000000                      942.000000   \n",
       "mean                  3.657113                        3.849257   \n",
       "std                   1.812182                        1.722698   \n",
       "min                   1.000000                        1.000000   \n",
       "25%                   2.000000                        3.000000   \n",
       "50%                   4.000000                        4.000000   \n",
       "75%                   4.000000                        5.000000   \n",
       "max                   9.000000                        9.000000   \n",
       "\n",
       "       am aware of the values  feel the City practices these values  \\\n",
       "count              942.000000                            942.000000   \n",
       "mean                 4.454352                              3.949045   \n",
       "std                  1.462074                              1.806104   \n",
       "min                  1.000000                              1.000000   \n",
       "25%                  4.000000                              3.000000   \n",
       "50%                  4.000000                              4.000000   \n",
       "75%                  5.000000                              5.000000   \n",
       "max                  9.000000                              9.000000   \n",
       "\n",
       "       co-workers treat me with respect  how satisfied are you with work  \n",
       "count                        942.000000                       942.000000  \n",
       "mean                           4.390658                         2.304671  \n",
       "std                            1.308128                         1.920182  \n",
       "min                            1.000000                         1.000000  \n",
       "25%                            4.000000                         1.000000  \n",
       "50%                            4.000000                         2.000000  \n",
       "75%                            5.000000                         2.000000  \n",
       "max                            9.000000                         9.000000  \n",
       "\n",
       "[8 rows x 39 columns]"
      ]
     },
     "execution_count": 7,
     "metadata": {},
     "output_type": "execute_result"
    }
   ],
   "source": [
    "survey.describe()"
   ]
  },
  {
   "cell_type": "code",
   "execution_count": 8,
   "metadata": {},
   "outputs": [
    {
     "data": {
      "text/plain": [
       "0"
      ]
     },
     "execution_count": 8,
     "metadata": {},
     "output_type": "execute_result"
    }
   ],
   "source": [
    "survey.isna().sum().sum()"
   ]
  },
  {
   "cell_type": "code",
   "execution_count": 9,
   "metadata": {},
   "outputs": [],
   "source": [
    "survey.duplicated().sum()\n",
    "x= survey"
   ]
  },
  {
   "cell_type": "code",
   "execution_count": 63,
   "metadata": {},
   "outputs": [
    {
     "data": {
      "text/plain": [
       "array([[ 1.00150326,  0.96665389,  0.9484569 , ...,  2.7980878 ,\n",
       "        -0.29879778, -0.15875203],\n",
       "       [-1.54826991, -1.1692053 , -0.94310216, ...,  0.02822787,\n",
       "        -1.06365512, -0.15875203],\n",
       "       [-0.69834552,  0.25470083,  0.9484569 , ...,  0.58219986,\n",
       "         0.46605957, -0.67981269],\n",
       "       ...,\n",
       "       [-0.69834552, -1.1692053 , -0.94310216, ..., -1.0797161 ,\n",
       "        -0.29879778,  0.88336929],\n",
       "       [ 1.00150326, -0.45725223, -0.94310216, ...,  0.58219986,\n",
       "         0.46605957, -0.67981269],\n",
       "       [ 0.15157887, -1.1692053 , -0.94310216, ..., -1.0797161 ,\n",
       "         0.46605957, -0.15875203]])"
      ]
     },
     "execution_count": 63,
     "metadata": {},
     "output_type": "execute_result"
    }
   ],
   "source": [
    "from sklearn.preprocessing import StandardScaler\n",
    "sc= StandardScaler()\n",
    "scaled_x = sc.fit_transform(x)\n"
   ]
  },
  {
   "cell_type": "code",
   "execution_count": 11,
   "metadata": {},
   "outputs": [
    {
     "data": {
      "text/html": [
       "<div>\n",
       "<style scoped>\n",
       "    .dataframe tbody tr th:only-of-type {\n",
       "        vertical-align: middle;\n",
       "    }\n",
       "\n",
       "    .dataframe tbody tr th {\n",
       "        vertical-align: top;\n",
       "    }\n",
       "\n",
       "    .dataframe thead th {\n",
       "        text-align: right;\n",
       "    }\n",
       "</style>\n",
       "<table border=\"1\" class=\"dataframe\">\n",
       "  <thead>\n",
       "    <tr style=\"text-align: right;\">\n",
       "      <th></th>\n",
       "      <th>PCA1</th>\n",
       "      <th>PCA2</th>\n",
       "    </tr>\n",
       "  </thead>\n",
       "  <tbody>\n",
       "    <tr>\n",
       "      <th>0</th>\n",
       "      <td>6.104837</td>\n",
       "      <td>3.029289</td>\n",
       "    </tr>\n",
       "    <tr>\n",
       "      <th>1</th>\n",
       "      <td>-5.481504</td>\n",
       "      <td>0.342108</td>\n",
       "    </tr>\n",
       "    <tr>\n",
       "      <th>2</th>\n",
       "      <td>-0.071503</td>\n",
       "      <td>-0.134140</td>\n",
       "    </tr>\n",
       "    <tr>\n",
       "      <th>3</th>\n",
       "      <td>0.290278</td>\n",
       "      <td>-0.610177</td>\n",
       "    </tr>\n",
       "    <tr>\n",
       "      <th>4</th>\n",
       "      <td>-3.426432</td>\n",
       "      <td>-1.381587</td>\n",
       "    </tr>\n",
       "    <tr>\n",
       "      <th>...</th>\n",
       "      <td>...</td>\n",
       "      <td>...</td>\n",
       "    </tr>\n",
       "    <tr>\n",
       "      <th>937</th>\n",
       "      <td>-0.864646</td>\n",
       "      <td>-1.322501</td>\n",
       "    </tr>\n",
       "    <tr>\n",
       "      <th>938</th>\n",
       "      <td>3.355222</td>\n",
       "      <td>1.173021</td>\n",
       "    </tr>\n",
       "    <tr>\n",
       "      <th>939</th>\n",
       "      <td>-3.865250</td>\n",
       "      <td>0.194699</td>\n",
       "    </tr>\n",
       "    <tr>\n",
       "      <th>940</th>\n",
       "      <td>2.059108</td>\n",
       "      <td>0.032842</td>\n",
       "    </tr>\n",
       "    <tr>\n",
       "      <th>941</th>\n",
       "      <td>1.208602</td>\n",
       "      <td>0.638652</td>\n",
       "    </tr>\n",
       "  </tbody>\n",
       "</table>\n",
       "<p>942 rows × 2 columns</p>\n",
       "</div>"
      ],
      "text/plain": [
       "         PCA1      PCA2\n",
       "0    6.104837  3.029289\n",
       "1   -5.481504  0.342108\n",
       "2   -0.071503 -0.134140\n",
       "3    0.290278 -0.610177\n",
       "4   -3.426432 -1.381587\n",
       "..        ...       ...\n",
       "937 -0.864646 -1.322501\n",
       "938  3.355222  1.173021\n",
       "939 -3.865250  0.194699\n",
       "940  2.059108  0.032842\n",
       "941  1.208602  0.638652\n",
       "\n",
       "[942 rows x 2 columns]"
      ]
     },
     "execution_count": 11,
     "metadata": {},
     "output_type": "execute_result"
    }
   ],
   "source": [
    "# dimetionality reduction with PCA\n",
    "from sklearn.decomposition import PCA\n",
    "pca = PCA(n_components=2)\n",
    "pca_x= pca.fit_transform(scaled_x)\n",
    "pca_scaled_x = pd.DataFrame(data = pca_x, columns=['PCA1', 'PCA2'])\n",
    "pca_scaled_x \n"
   ]
  },
  {
   "cell_type": "code",
   "execution_count": 12,
   "metadata": {},
   "outputs": [
    {
     "data": {
      "text/plain": [
       "array([0.29909049, 0.39127063])"
      ]
     },
     "execution_count": 12,
     "metadata": {},
     "output_type": "execute_result"
    }
   ],
   "source": [
    "pca.explained_variance_ratio_.cumsum()"
   ]
  },
  {
   "cell_type": "code",
   "execution_count": 13,
   "metadata": {},
   "outputs": [
    {
     "name": "stderr",
     "output_type": "stream",
     "text": [
      "c:\\Users\\godwi\\anaconda3\\envs\\ML\\lib\\site-packages\\sklearn\\cluster\\_kmeans.py:1036: UserWarning: KMeans is known to have a memory leak on Windows with MKL, when there are less chunks than available threads. You can avoid it by setting the environment variable OMP_NUM_THREADS=4.\n",
      "  warnings.warn(\n"
     ]
    }
   ],
   "source": [
    "# lets perform elbow to determine wcss\n",
    "from sklearn.cluster import  KMeans\n",
    "wcss = []\n",
    "for i in range (1,15):\n",
    "    km= KMeans(n_clusters=i)\n",
    "    km.fit(x)\n",
    "    wcss_iter = km.inertia_\n",
    "    wcss.append(wcss_iter)"
   ]
  },
  {
   "cell_type": "code",
   "execution_count": 14,
   "metadata": {},
   "outputs": [
    {
     "data": {
      "image/png": "[encoded data removed]",
      "text/plain": [
       "<Figure size 720x720 with 1 Axes>"
      ]
     },
     "metadata": {
      "needs_background": "light"
     },
     "output_type": "display_data"
    }
   ],
   "source": [
    "# plottig the wcss\n",
    "fig, ax = plt.subplots(figsize =( 10, 10))\n",
    "plt.plot(range(1,15), wcss, marker = 'o')\n",
    "plt.grid(True)\n",
    "plt.xlabel(\"number of clusters\")\n",
    "plt.ylabel(\"wcss score\")\n",
    "plt.show()"
   ]
  },
  {
   "cell_type": "code",
   "execution_count": 15,
   "metadata": {},
   "outputs": [
    {
     "name": "stderr",
     "output_type": "stream",
     "text": [
      "c:\\Users\\godwi\\anaconda3\\envs\\ML\\lib\\site-packages\\sklearn\\cluster\\_kmeans.py:1036: UserWarning: KMeans is known to have a memory leak on Windows with MKL, when there are less chunks than available threads. You can avoid it by setting the environment variable OMP_NUM_THREADS=4.\n",
      "  warnings.warn(\n"
     ]
    },
    {
     "data": {
      "image/png": "[encoded data removed]",
      "text/plain": [
       "<Figure size 576x396 with 2 Axes>"
      ]
     },
     "metadata": {},
     "output_type": "display_data"
    },
    {
     "data": {
      "text/plain": [
       "<AxesSubplot:title={'center':'Distortion Score Elbow for KMeans Clustering'}, xlabel='k', ylabel='distortion score'>"
      ]
     },
     "execution_count": 15,
     "metadata": {},
     "output_type": "execute_result"
    }
   ],
   "source": [
    "from yellowbrick.cluster import KElbowVisualizer\n",
    "model = KMeans()\n",
    "visualizer = KElbowVisualizer(model, k=(1,15)).fit(x)\n",
    "visualizer.show()"
   ]
  },
  {
   "cell_type": "code",
   "execution_count": 16,
   "metadata": {},
   "outputs": [
    {
     "data": {
      "image/png": "[encoded data removed]",
      "text/plain": [
       "<Figure size 720x576 with 4 Axes>"
      ]
     },
     "metadata": {},
     "output_type": "display_data"
    }
   ],
   "source": [
    "from yellowbrick.cluster import SilhouetteVisualizer\n",
    "\n",
    "fig,ax = plt.subplots (figsize = (10,8), nrows = 2, ncols = 2)\n",
    "for i in [2,3,4,5]:\n",
    "    # create KMeans instance for differnt number of clusters\n",
    "    km_visual = KMeans(n_clusters= i, random_state= 42)\n",
    "    q,mod = divmod(i,2)\n",
    "    \n",
    "    # create silhoutterVisualizer instance with KMeans instance\n",
    "    visualizer = SilhouetteVisualizer(km_visual ,colors= 'yellowbrick',ax = ax[q-1][mod])\n",
    "    visualizer.fit(x)\n"
   ]
  },
  {
   "cell_type": "code",
   "execution_count": 45,
   "metadata": {},
   "outputs": [
    {
     "data": {
      "text/html": [
       "<div>\n",
       "<style scoped>\n",
       "    .dataframe tbody tr th:only-of-type {\n",
       "        vertical-align: middle;\n",
       "    }\n",
       "\n",
       "    .dataframe tbody tr th {\n",
       "        vertical-align: top;\n",
       "    }\n",
       "\n",
       "    .dataframe thead th {\n",
       "        text-align: right;\n",
       "    }\n",
       "</style>\n",
       "<table border=\"1\" class=\"dataframe\">\n",
       "  <thead>\n",
       "    <tr style=\"text-align: right;\">\n",
       "      <th></th>\n",
       "      <th>PCA1</th>\n",
       "      <th>PCA2</th>\n",
       "      <th>clusters</th>\n",
       "    </tr>\n",
       "  </thead>\n",
       "  <tbody>\n",
       "    <tr>\n",
       "      <th>0</th>\n",
       "      <td>6.104837</td>\n",
       "      <td>3.029289</td>\n",
       "      <td>1</td>\n",
       "    </tr>\n",
       "    <tr>\n",
       "      <th>1</th>\n",
       "      <td>-5.481504</td>\n",
       "      <td>0.342108</td>\n",
       "      <td>3</td>\n",
       "    </tr>\n",
       "    <tr>\n",
       "      <th>2</th>\n",
       "      <td>-0.071503</td>\n",
       "      <td>-0.134140</td>\n",
       "      <td>0</td>\n",
       "    </tr>\n",
       "    <tr>\n",
       "      <th>3</th>\n",
       "      <td>0.290278</td>\n",
       "      <td>-0.610177</td>\n",
       "      <td>0</td>\n",
       "    </tr>\n",
       "    <tr>\n",
       "      <th>4</th>\n",
       "      <td>-3.426432</td>\n",
       "      <td>-1.381587</td>\n",
       "      <td>0</td>\n",
       "    </tr>\n",
       "    <tr>\n",
       "      <th>5</th>\n",
       "      <td>-4.020533</td>\n",
       "      <td>-3.126480</td>\n",
       "      <td>0</td>\n",
       "    </tr>\n",
       "    <tr>\n",
       "      <th>6</th>\n",
       "      <td>2.528284</td>\n",
       "      <td>-2.204539</td>\n",
       "      <td>2</td>\n",
       "    </tr>\n",
       "    <tr>\n",
       "      <th>7</th>\n",
       "      <td>-3.572987</td>\n",
       "      <td>1.338434</td>\n",
       "      <td>3</td>\n",
       "    </tr>\n",
       "    <tr>\n",
       "      <th>8</th>\n",
       "      <td>-3.071541</td>\n",
       "      <td>-1.015139</td>\n",
       "      <td>0</td>\n",
       "    </tr>\n",
       "    <tr>\n",
       "      <th>9</th>\n",
       "      <td>-2.007465</td>\n",
       "      <td>-0.862125</td>\n",
       "      <td>0</td>\n",
       "    </tr>\n",
       "  </tbody>\n",
       "</table>\n",
       "</div>"
      ],
      "text/plain": [
       "       PCA1      PCA2  clusters\n",
       "0  6.104837  3.029289         1\n",
       "1 -5.481504  0.342108         3\n",
       "2 -0.071503 -0.134140         0\n",
       "3  0.290278 -0.610177         0\n",
       "4 -3.426432 -1.381587         0\n",
       "5 -4.020533 -3.126480         0\n",
       "6  2.528284 -2.204539         2\n",
       "7 -3.572987  1.338434         3\n",
       "8 -3.071541 -1.015139         0\n",
       "9 -2.007465 -0.862125         0"
      ]
     },
     "execution_count": 45,
     "metadata": {},
     "output_type": "execute_result"
    }
   ],
   "source": [
    "kmeans = KMeans(n_clusters=5)\n",
    "kmeans.fit_transform(pca_scaled_x )\n",
    "pca_x_kmeans = pd.concat([pca_scaled_x , pd.DataFrame({'clusters' : kmeans.labels_})],axis = 1)\n",
    "pca_x_kmeans[:10]"
   ]
  },
  {
   "cell_type": "code",
   "execution_count": 18,
   "metadata": {},
   "outputs": [],
   "source": [
    "# means.labels_[:10]  # labels and fit_transform "
   ]
  },
  {
   "cell_type": "code",
   "execution_count": 19,
   "metadata": {},
   "outputs": [],
   "source": [
    "# kmeans = KMeans(n_clusters=5)\n",
    "# predict = kmeans.fit_predict(pca_scaled_x )\n",
    "# pca_scaled_x "
   ]
  },
  {
   "cell_type": "markdown",
   "metadata": {},
   "source": [
    "# Plotting KMEANS"
   ]
  },
  {
   "cell_type": "code",
   "execution_count": 20,
   "metadata": {},
   "outputs": [
    {
     "data": {
      "image/png": "[encoded data removed]",
      "text/plain": [
       "<Figure size 864x576 with 1 Axes>"
      ]
     },
     "metadata": {},
     "output_type": "display_data"
    }
   ],
   "source": [
    "# plotting kmeans\n",
    "c =['red', 'blue','green','black','orange']\n",
    "fig, ax = plt.subplots(figsize =( 12, 8))\n",
    "sns.scatterplot(data = pca_x_kmeans, x= 'PCA1', y='PCA2', palette= c, hue = 'clusters',alpha=0.8, s = 100)\n",
    "sns.scatterplot(x= kmeans.cluster_centers_[:, 0], y=kmeans.cluster_centers_[:, 1], \n",
    "                hue= range(5), palette=c, s=200, ec='black', marker = \"*\",  legend = False,ax=ax)\n",
    "plt.show()\n"
   ]
  },
  {
   "cell_type": "markdown",
   "metadata": {},
   "source": [
    "# Hierachical clustering"
   ]
  },
  {
   "cell_type": "code",
   "execution_count": 21,
   "metadata": {},
   "outputs": [
    {
     "data": {
      "image/png": "[encoded data removed]",
      "text/plain": [
       "<Figure size 864x648 with 1 Axes>"
      ]
     },
     "metadata": {},
     "output_type": "display_data"
    }
   ],
   "source": [
    "import scipy.cluster.hierarchy as sch\n",
    "fig,ax = plt.subplots(figsize = (12, 9))\n",
    "dendrogram = sch.dendrogram(sch.linkage(x, method ='ward'))\n",
    "plt.title(\"Dengrogram\", fontsize = 20)\n",
    "plt.xlabel(\"#\")\n",
    "plt.ylabel(\"Euclidean Distance\")\n",
    "plt.grid(True)\n",
    "plt.show()"
   ]
  },
  {
   "cell_type": "code",
   "execution_count": 22,
   "metadata": {},
   "outputs": [],
   "source": [
    "from sklearn.cluster import AgglomerativeClustering\n",
    "cluster_h= AgglomerativeClustering(n_clusters=4)\n",
    "cluster_hierc=cluster_h.fit_predict(pca_x)"
   ]
  },
  {
   "cell_type": "code",
   "execution_count": 23,
   "metadata": {},
   "outputs": [],
   "source": [
    "# pca_x_hierachical = pd.concat([pca_scaled_x, pd.DataFrame({'Clusters' : cluster_hierc})],axis = 1)\n",
    "# pca_x_hierachical"
   ]
  },
  {
   "cell_type": "code",
   "execution_count": 47,
   "metadata": {},
   "outputs": [
    {
     "data": {
      "text/html": [
       "<div>\n",
       "<style scoped>\n",
       "    .dataframe tbody tr th:only-of-type {\n",
       "        vertical-align: middle;\n",
       "    }\n",
       "\n",
       "    .dataframe tbody tr th {\n",
       "        vertical-align: top;\n",
       "    }\n",
       "\n",
       "    .dataframe thead th {\n",
       "        text-align: right;\n",
       "    }\n",
       "</style>\n",
       "<table border=\"1\" class=\"dataframe\">\n",
       "  <thead>\n",
       "    <tr style=\"text-align: right;\">\n",
       "      <th></th>\n",
       "      <th>receive training to do my job effectively</th>\n",
       "      <th>is someone at work who encourages</th>\n",
       "      <th>have been mentored at work</th>\n",
       "      <th>have received fair consideration</th>\n",
       "      <th>I am satisfied with the program</th>\n",
       "      <th>and Diversity</th>\n",
       "      <th>Resources</th>\n",
       "      <th>Technology</th>\n",
       "      <th>Compensation</th>\n",
       "      <th>wellness program</th>\n",
       "      <th>...</th>\n",
       "      <th>I am reasonably compensat</th>\n",
       "      <th>receive information that affects</th>\n",
       "      <th>can express my opinions about wo</th>\n",
       "      <th>communication between w</th>\n",
       "      <th>am encouraged to be innovative</th>\n",
       "      <th>am aware of the values</th>\n",
       "      <th>feel the City practices these values</th>\n",
       "      <th>co-workers treat me with respect</th>\n",
       "      <th>how satisfied are you with work</th>\n",
       "      <th>cluster</th>\n",
       "    </tr>\n",
       "  </thead>\n",
       "  <tbody>\n",
       "    <tr>\n",
       "      <th>0</th>\n",
       "      <td>5</td>\n",
       "      <td>5</td>\n",
       "      <td>5</td>\n",
       "      <td>5</td>\n",
       "      <td>5</td>\n",
       "      <td>4</td>\n",
       "      <td>4</td>\n",
       "      <td>4</td>\n",
       "      <td>4</td>\n",
       "      <td>4</td>\n",
       "      <td>...</td>\n",
       "      <td>4</td>\n",
       "      <td>4</td>\n",
       "      <td>4</td>\n",
       "      <td>9</td>\n",
       "      <td>9</td>\n",
       "      <td>9</td>\n",
       "      <td>9</td>\n",
       "      <td>4</td>\n",
       "      <td>2</td>\n",
       "      <td>1</td>\n",
       "    </tr>\n",
       "    <tr>\n",
       "      <th>1</th>\n",
       "      <td>2</td>\n",
       "      <td>2</td>\n",
       "      <td>2</td>\n",
       "      <td>2</td>\n",
       "      <td>4</td>\n",
       "      <td>2</td>\n",
       "      <td>4</td>\n",
       "      <td>4</td>\n",
       "      <td>4</td>\n",
       "      <td>3</td>\n",
       "      <td>...</td>\n",
       "      <td>2</td>\n",
       "      <td>2</td>\n",
       "      <td>2</td>\n",
       "      <td>2</td>\n",
       "      <td>2</td>\n",
       "      <td>4</td>\n",
       "      <td>4</td>\n",
       "      <td>3</td>\n",
       "      <td>2</td>\n",
       "      <td>3</td>\n",
       "    </tr>\n",
       "    <tr>\n",
       "      <th>2</th>\n",
       "      <td>3</td>\n",
       "      <td>4</td>\n",
       "      <td>5</td>\n",
       "      <td>4</td>\n",
       "      <td>3</td>\n",
       "      <td>9</td>\n",
       "      <td>9</td>\n",
       "      <td>4</td>\n",
       "      <td>9</td>\n",
       "      <td>1</td>\n",
       "      <td>...</td>\n",
       "      <td>3</td>\n",
       "      <td>3</td>\n",
       "      <td>4</td>\n",
       "      <td>5</td>\n",
       "      <td>2</td>\n",
       "      <td>5</td>\n",
       "      <td>5</td>\n",
       "      <td>5</td>\n",
       "      <td>1</td>\n",
       "      <td>0</td>\n",
       "    </tr>\n",
       "    <tr>\n",
       "      <th>3</th>\n",
       "      <td>4</td>\n",
       "      <td>4</td>\n",
       "      <td>5</td>\n",
       "      <td>4</td>\n",
       "      <td>4</td>\n",
       "      <td>3</td>\n",
       "      <td>4</td>\n",
       "      <td>4</td>\n",
       "      <td>4</td>\n",
       "      <td>4</td>\n",
       "      <td>...</td>\n",
       "      <td>4</td>\n",
       "      <td>4</td>\n",
       "      <td>4</td>\n",
       "      <td>4</td>\n",
       "      <td>4</td>\n",
       "      <td>4</td>\n",
       "      <td>4</td>\n",
       "      <td>4</td>\n",
       "      <td>1</td>\n",
       "      <td>0</td>\n",
       "    </tr>\n",
       "    <tr>\n",
       "      <th>4</th>\n",
       "      <td>4</td>\n",
       "      <td>2</td>\n",
       "      <td>2</td>\n",
       "      <td>2</td>\n",
       "      <td>2</td>\n",
       "      <td>2</td>\n",
       "      <td>2</td>\n",
       "      <td>4</td>\n",
       "      <td>1</td>\n",
       "      <td>4</td>\n",
       "      <td>...</td>\n",
       "      <td>1</td>\n",
       "      <td>4</td>\n",
       "      <td>2</td>\n",
       "      <td>4</td>\n",
       "      <td>4</td>\n",
       "      <td>4</td>\n",
       "      <td>3</td>\n",
       "      <td>4</td>\n",
       "      <td>3</td>\n",
       "      <td>0</td>\n",
       "    </tr>\n",
       "  </tbody>\n",
       "</table>\n",
       "<p>5 rows × 40 columns</p>\n",
       "</div>"
      ],
      "text/plain": [
       "   receive training to do my job effectively  \\\n",
       "0                                          5   \n",
       "1                                          2   \n",
       "2                                          3   \n",
       "3                                          4   \n",
       "4                                          4   \n",
       "\n",
       "   is someone at work who encourages  have been mentored at work  \\\n",
       "0                                  5                           5   \n",
       "1                                  2                           2   \n",
       "2                                  4                           5   \n",
       "3                                  4                           5   \n",
       "4                                  2                           2   \n",
       "\n",
       "   have received fair consideration  I am satisfied with the program  \\\n",
       "0                                 5                                5   \n",
       "1                                 2                                4   \n",
       "2                                 4                                3   \n",
       "3                                 4                                4   \n",
       "4                                 2                                2   \n",
       "\n",
       "   and Diversity  Resources  Technology  Compensation  wellness program  ...  \\\n",
       "0              4          4           4             4                 4  ...   \n",
       "1              2          4           4             4                 3  ...   \n",
       "2              9          9           4             9                 1  ...   \n",
       "3              3          4           4             4                 4  ...   \n",
       "4              2          2           4             1                 4  ...   \n",
       "\n",
       "   I am reasonably compensat  receive information that affects  \\\n",
       "0                          4                                 4   \n",
       "1                          2                                 2   \n",
       "2                          3                                 3   \n",
       "3                          4                                 4   \n",
       "4                          1                                 4   \n",
       "\n",
       "   can express my opinions about wo  communication between w  \\\n",
       "0                                 4                        9   \n",
       "1                                 2                        2   \n",
       "2                                 4                        5   \n",
       "3                                 4                        4   \n",
       "4                                 2                        4   \n",
       "\n",
       "   am encouraged to be innovative  am aware of the values  \\\n",
       "0                               9                       9   \n",
       "1                               2                       4   \n",
       "2                               2                       5   \n",
       "3                               4                       4   \n",
       "4                               4                       4   \n",
       "\n",
       "   feel the City practices these values  co-workers treat me with respect  \\\n",
       "0                                     9                                 4   \n",
       "1                                     4                                 3   \n",
       "2                                     5                                 5   \n",
       "3                                     4                                 4   \n",
       "4                                     3                                 4   \n",
       "\n",
       "   how satisfied are you with work  cluster  \n",
       "0                                2        1  \n",
       "1                                2        3  \n",
       "2                                1        0  \n",
       "3                                1        0  \n",
       "4                                3        0  \n",
       "\n",
       "[5 rows x 40 columns]"
      ]
     },
     "execution_count": 47,
     "metadata": {},
     "output_type": "execute_result"
    }
   ],
   "source": [
    "# lets label the employess with their clusters\n",
    "survey_cluster = pd.concat([survey, pd.DataFrame({'cluster' : kmeans.labels_})], axis = 1)\n",
    "survey_cluster.head()\n"
   ]
  },
  {
   "cell_type": "code",
   "execution_count": null,
   "metadata": {},
   "outputs": [],
   "source": [
    "survey_cluster.cluster.value_counts()"
   ]
  },
  {
   "cell_type": "code",
   "execution_count": 25,
   "metadata": {},
   "outputs": [
    {
     "data": {
      "text/plain": [
       "<AxesSubplot:xlabel='cluster', ylabel='count'>"
      ]
     },
     "execution_count": 25,
     "metadata": {},
     "output_type": "execute_result"
    },
    {
     "data": {
      "image/png": "[encoded data removed]",
      "text/plain": [
       "<Figure size 576x396 with 1 Axes>"
      ]
     },
     "metadata": {},
     "output_type": "display_data"
    }
   ],
   "source": [
    "# cluster dictribution\n",
    "survey_cluster.cluster.value_counts()\n",
    "#survey_cluster.cluster.value_counts().plot(kind = 'bar', color = ['red','blue',\"green\",\"black\"]);\n",
    "sns.countplot(data = survey_cluster, x= \"cluster\")"
   ]
  },
  {
   "cell_type": "code",
   "execution_count": 26,
   "metadata": {},
   "outputs": [],
   "source": [
    "# exporting the file\n",
    "survey_cluster.to_csv('cleaned_file.csv',index=False)"
   ]
  },
  {
   "cell_type": "code",
   "execution_count": 48,
   "metadata": {},
   "outputs": [
    {
     "data": {
      "image/png": "[encoded data removed]",
      "text/plain": [
       "<Figure size 1080x216 with 5 Axes>"
      ]
     },
     "metadata": {},
     "output_type": "display_data"
    },
    {
     "data": {
      "image/png": "[encoded data removed]",
      "text/plain": [
       "<Figure size 1080x216 with 5 Axes>"
      ]
     },
     "metadata": {},
     "output_type": "display_data"
    },
    {
     "data": {
      "image/png": "[encoded data removed]",
      "text/plain": [
       "<Figure size 1080x216 with 5 Axes>"
      ]
     },
     "metadata": {},
     "output_type": "display_data"
    },
    {
     "data": {
      "image/png": "[encoded data removed]",
      "text/plain": [
       "<Figure size 1080x216 with 5 Axes>"
      ]
     },
     "metadata": {},
     "output_type": "display_data"
    }
   ],
   "source": [
    "\n",
    "for c in survey_cluster.drop(['cluster'], axis =1).sample(4,axis =1):\n",
    "        grid = sns.FacetGrid(data = survey_cluster, col='cluster')\n",
    "        grid = grid.map(plt.hist, c )\n",
    "        plt.show()"
   ]
  },
  {
   "cell_type": "code",
   "execution_count": 28,
   "metadata": {},
   "outputs": [],
   "source": [
    "# lets train a model\n",
    "X = survey_cluster.drop(['cluster'],axis =1)\n",
    "y= survey_cluster.cluster"
   ]
  },
  {
   "cell_type": "code",
   "execution_count": 52,
   "metadata": {},
   "outputs": [
    {
     "data": {
      "text/plain": [
       "0.872791519434629"
      ]
     },
     "execution_count": 52,
     "metadata": {},
     "output_type": "execute_result"
    }
   ],
   "source": [
    "from sklearn.model_selection import train_test_split\n",
    "from sklearn.ensemble import RandomForestClassifier\n",
    "\n",
    "X_train, X_test, y_train, y_test = train_test_split(X, y, test_size=0.3, random_state=42)\n",
    "clf = RandomForestClassifier(n_estimators=500, random_state=42)\n",
    "clf.fit(X_train, y_train)\n",
    "clf.score(X_test, y_test)"
   ]
  },
  {
   "cell_type": "code",
   "execution_count": 53,
   "metadata": {},
   "outputs": [
    {
     "data": {
      "text/plain": [
       "0.9434628975265018"
      ]
     },
     "execution_count": 53,
     "metadata": {},
     "output_type": "execute_result"
    }
   ],
   "source": [
    "from sklearn.linear_model import LogisticRegression\n",
    "lgr= LogisticRegression(random_state=42, max_iter= 6000)\n",
    "lgr.fit(X_train, y_train)\n",
    "lgr.score(X_test, y_test)"
   ]
  },
  {
   "cell_type": "code",
   "execution_count": 70,
   "metadata": {},
   "outputs": [
    {
     "data": {
      "text/plain": [
       "array([3, 3, 2, 3, 3, 1, 1, 3, 3, 1, 3, 2, 2, 1, 1, 1, 3, 3, 1, 1, 3, 3,\n",
       "       3, 3, 1, 3, 0, 3, 3, 3, 1, 4, 0, 1, 1, 0, 0, 3, 2, 3, 0, 1, 1, 3,\n",
       "       3, 0, 3, 3, 0, 3, 1, 0, 1, 1, 1, 0, 1, 0, 1, 4, 3, 3, 3, 0, 3, 1,\n",
       "       3, 1, 3, 3, 1, 3, 1, 1, 3, 1, 0, 1, 3, 1, 0, 1, 3, 3, 1, 2, 1, 0,\n",
       "       3, 2, 1, 3, 0, 2, 1, 4, 1, 3, 1, 3, 0, 3, 1, 1, 0, 1, 1, 1, 3, 3,\n",
       "       1, 1, 3, 1, 3, 4, 1, 1, 1, 1, 3, 1, 1, 1, 4, 3, 3, 3, 3, 4, 1, 3,\n",
       "       3, 3, 3, 3, 2, 4, 3, 1, 1, 3, 1, 0, 4, 3, 2, 0, 3, 3, 0, 2, 1, 3,\n",
       "       1, 0, 0, 3, 3, 3, 0, 0, 0, 2, 3, 3, 3, 0, 1, 1, 0, 3, 3, 1, 1, 1,\n",
       "       3, 1, 3, 1, 4, 3, 3, 3, 0, 4, 0, 3, 3, 3, 0, 3, 0, 1, 3, 3, 0, 1,\n",
       "       1, 3, 0, 1, 3, 3, 3, 0, 4, 1, 3, 1, 1, 1, 1, 0, 0, 1, 1, 3, 3, 3,\n",
       "       2, 3, 4, 1, 2, 1, 2, 1, 0, 1, 3, 1, 0, 1, 1, 3, 3, 1, 0, 1, 3, 1,\n",
       "       0, 3, 3, 1, 3, 1, 1, 0, 1, 1, 0, 0, 3, 1, 1, 1, 1, 0, 3, 2, 1, 3,\n",
       "       0, 0, 3, 1, 2, 1, 3, 3, 3, 3, 3, 1, 0, 1, 1, 3, 3, 3, 4])"
      ]
     },
     "execution_count": 70,
     "metadata": {},
     "output_type": "execute_result"
    }
   ],
   "source": [
    "y_pred_lgr = lgr.predict(X_test)\n",
    "y_pred_lgr"
   ]
  },
  {
   "cell_type": "code",
   "execution_count": 54,
   "metadata": {},
   "outputs": [
    {
     "data": {
      "text/plain": [
       "0.7279151943462897"
      ]
     },
     "execution_count": 54,
     "metadata": {},
     "output_type": "execute_result"
    }
   ],
   "source": [
    "from sklearn.tree import DecisionTreeClassifier\n",
    "dt = DecisionTreeClassifier(random_state=42)\n",
    "dt.fit(X_train, y_train)\n",
    "dt.score(X_test, y_test)"
   ]
  },
  {
   "cell_type": "code",
   "execution_count": 34,
   "metadata": {},
   "outputs": [
    {
     "data": {
      "text/plain": [
       "array([0.26758622, 0.37753381])"
      ]
     },
     "execution_count": 34,
     "metadata": {},
     "output_type": "execute_result"
    }
   ],
   "source": [
    "pca_n = PCA(n_components=None)\n",
    "X_train_pca_n = pca.fit_transform(X_train)\n",
    "X_test_pca_n = pca.transform(X_test)\n",
    "pca.explained_variance_ratio_.cumsum()"
   ]
  },
  {
   "cell_type": "code",
   "execution_count": 55,
   "metadata": {},
   "outputs": [],
   "source": [
    "pca_n = PCA(n_components=2)\n",
    "X_train_pca_n = pca.fit_transform(X_train)\n",
    "X_test_pca_n = pca.transform(X_test)"
   ]
  },
  {
   "cell_type": "code",
   "execution_count": 60,
   "metadata": {},
   "outputs": [
    {
     "data": {
      "text/plain": [
       "0.8621908127208481"
      ]
     },
     "execution_count": 60,
     "metadata": {},
     "output_type": "execute_result"
    }
   ],
   "source": [
    "# lets use PCA\n",
    "lgr_pca = LogisticRegression(max_iter=6000, random_state=42)\n",
    "lgr_pca.fit(X_train_pca_n, y_train)\n",
    "\n",
    "y_pred_pca = lgr_pca.predict(X_test_pca_n)\n",
    "lgr_pca.score(X_test_pca_n, y_test)"
   ]
  },
  {
   "cell_type": "code",
   "execution_count": 51,
   "metadata": {},
   "outputs": [
    {
     "data": {
      "text/plain": [
       "0.8798586572438163"
      ]
     },
     "execution_count": 51,
     "metadata": {},
     "output_type": "execute_result"
    }
   ],
   "source": [
    "rfc_pca = RandomForestClassifier(n_estimators=260, random_state=42)\n",
    "rfc_pca.fit(X_train, y_train)\n",
    "rfc_pca.score(X_test, y_test)"
   ]
  },
  {
   "cell_type": "code",
   "execution_count": null,
   "metadata": {},
   "outputs": [
    {
     "data": {
      "text/plain": [
       "['lgr_model.joblib']"
      ]
     },
     "metadata": {},
     "output_type": "display_data"
    }
   ],
   "source": [
    "import joblib\n",
    "joblib.dump(lgr, \"lgr_model.joblib\")"
   ]
  },
  {
   "cell_type": "code",
   "execution_count": null,
   "metadata": {},
   "outputs": [],
   "source": [
    "import pickle\n",
    "pickle.dump(lgr, open(\"modelname\", \"wb\"))"
   ]
  },
  {
   "cell_type": "code",
   "execution_count": 38,
   "metadata": {},
   "outputs": [],
   "source": [
    "from sklearn.metrics import accuracy_score, classification_report, confusion_matrix"
   ]
  },
  {
   "cell_type": "code",
   "execution_count": 39,
   "metadata": {},
   "outputs": [
    {
     "ename": "NameError",
     "evalue": "name 'y_pca_test' is not defined",
     "output_type": "error",
     "traceback": [
      "\u001b[1;31m---------------------------------------------------------------------------\u001b[0m",
      "\u001b[1;31mNameError\u001b[0m                                 Traceback (most recent call last)",
      "\u001b[1;32mc:\\Users\\godwi\\Data_Science_ML\\streamlit_app_employee_engagement_survey\\survey.ipynb Cell 41\u001b[0m in \u001b[0;36m<cell line: 2>\u001b[1;34m()\u001b[0m\n\u001b[0;32m      <a href='vscode-notebook-cell:/c%3A/Users/godwi/Data_Science_ML/streamlit_app_employee_engagement_survey/survey.ipynb#X50sZmlsZQ%3D%3D?line=0'>1</a>\u001b[0m plt\u001b[39m.\u001b[39msubplots(figsize \u001b[39m=\u001b[39m (\u001b[39m10\u001b[39m,\u001b[39m4\u001b[39m))\n\u001b[1;32m----> <a href='vscode-notebook-cell:/c%3A/Users/godwi/Data_Science_ML/streamlit_app_employee_engagement_survey/survey.ipynb#X50sZmlsZQ%3D%3D?line=1'>2</a>\u001b[0m cm \u001b[39m=\u001b[39m pd\u001b[39m.\u001b[39mDataFrame(confusion_matrix(y_pred_pca,y_pca_test))\n\u001b[0;32m      <a href='vscode-notebook-cell:/c%3A/Users/godwi/Data_Science_ML/streamlit_app_employee_engagement_survey/survey.ipynb#X50sZmlsZQ%3D%3D?line=2'>3</a>\u001b[0m sns\u001b[39m.\u001b[39mheatmap(cm, annot \u001b[39m=\u001b[39m \u001b[39mTrue\u001b[39;00m, fmt \u001b[39m=\u001b[39m \u001b[39m'\u001b[39m\u001b[39m.0f\u001b[39m\u001b[39m'\u001b[39m)\n",
      "\u001b[1;31mNameError\u001b[0m: name 'y_pca_test' is not defined"
     ]
    },
    {
     "data": {
      "image/png": "[encoded data removed]",
      "text/plain": [
       "<Figure size 720x288 with 1 Axes>"
      ]
     },
     "metadata": {},
     "output_type": "display_data"
    }
   ],
   "source": [
    "plt.subplots(figsize = (10,4))\n",
    "cm = pd.DataFrame(confusion_matrix(y_pred_pca,y_pca_test))\n",
    "sns.heatmap(cm, annot = True, fmt = '.0f')"
   ]
  },
  {
   "cell_type": "code",
   "execution_count": null,
   "metadata": {},
   "outputs": [],
   "source": [
    "print(classification_report(y_pred_pca,y_pca_test))"
   ]
  },
  {
   "cell_type": "code",
   "execution_count": null,
   "metadata": {},
   "outputs": [],
   "source": [
    "survey.columns.value_counts().sum()"
   ]
  },
  {
   "cell_type": "code",
   "execution_count": null,
   "metadata": {},
   "outputs": [],
   "source": []
  }
 ],
 "metadata": {
  "kernelspec": {
   "display_name": "Python 3.9.12 ('ML')",
   "language": "python",
   "name": "python3"
  },
  "language_info": {
   "codemirror_mode": {
    "name": "ipython",
    "version": 3
   },
   "file_extension": ".py",
   "mimetype": "text/x-python",
   "name": "python",
   "nbconvert_exporter": "python",
   "pygments_lexer": "ipython3",
   "version": "3.9.12"
  },
  "orig_nbformat": 4,
  "vscode": {
   "interpreter": {
    "hash": "686cb14c4d1b9c10293961ee2915b43d0c34036735ac88ced71396191e257b28"
   }
  }
 },
 "nbformat": 4,
 "nbformat_minor": 2
}
